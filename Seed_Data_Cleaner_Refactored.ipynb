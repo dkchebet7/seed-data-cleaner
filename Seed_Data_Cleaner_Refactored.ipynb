{
  "cells": [
    {
      "cell_type": "markdown",
      "id": "e5a2dfbd",
      "metadata": {
        "id": "e5a2dfbd"
      },
      "source": [
        "# 🧼 Seed Data Cleaning Script\n",
        "This script automates the cleaning and preparation of product seed data. It removes HTML tags, filters out explicit content, and reorganizes rows based on user-defined keywords to streamline annotation workflows."
      ]
    },
    {
      "cell_type": "code",
      "execution_count": 1,
      "id": "40c1e8ca",
      "metadata": {
        "id": "40c1e8ca"
      },
      "outputs": [],
      "source": [
        "import pandas as pd\n",
        "import re\n"
      ]
    },
    {
      "cell_type": "markdown",
      "id": "4b931150",
      "metadata": {
        "id": "4b931150"
      },
      "source": [
        "### 🔧 User-defined Settings"
      ]
    },
    {
      "cell_type": "code",
      "execution_count": 2,
      "id": "b6a4752f",
      "metadata": {
        "id": "b6a4752f"
      },
      "outputs": [],
      "source": [
        "# === USER-DEFINED SETTINGS ===\n",
        "# Customize these lists as needed\n",
        "\n",
        "INPUT_CSV = \"sample_input.csv\"\n",
        "OUTPUT_XLSX = \"cleaned_output.xlsx\"\n",
        "EXPLICIT_WORDS = [\"badword\", \"offensive\", \"explicit\"]  # Customize as needed\n",
        "SORT_KEYWORDS = [\"shirt\", \"jacket\"]  # Reorder priority\n"
      ]
    },
    {
      "cell_type": "markdown",
      "id": "1fcbd362",
      "metadata": {
        "id": "1fcbd362"
      },
      "source": [
        "### 🧼 Cleaning Functions"
      ]
    },
    {
      "cell_type": "code",
      "execution_count": 3,
      "id": "94abbfec",
      "metadata": {
        "colab": {
          "base_uri": "https://localhost:8080/"
        },
        "id": "94abbfec",
        "outputId": "2d6d8fad-2a15-4471-c581-fd3793886c73"
      },
      "outputs": [
        {
          "output_type": "stream",
          "name": "stdout",
          "text": [
            "✅ Cleaning complete. Output saved to: cleaned_output.xlsx\n"
          ]
        }
      ],
      "source": [
        "\n",
        "# === LOAD DATA ===\n",
        "df = pd.read_csv(INPUT_CSV)\n",
        "\n",
        "# === Track rejected rows ===\n",
        "rejected_unreadable = pd.DataFrame()\n",
        "rejected_explicit = pd.DataFrame()\n",
        "rejected_duplicates = pd.DataFrame()\n",
        "\n",
        "# === 1. REMOVE UNREADABLE WPIDs ===\n",
        "# WPIDs should be alphanumeric and > 6 characters\n",
        "mask_valid_wpid = df['WPID'].astype(str).str.fullmatch(r'[A-Za-z0-9]{7,}')\n",
        "rejected_unreadable = df[~mask_valid_wpid]\n",
        "df = df[mask_valid_wpid]\n",
        "\n",
        "# === 2. REMOVE EXPLICIT CONTENT ===\n",
        "def contains_explicit(text):\n",
        "    if pd.isnull(text):\n",
        "        return False\n",
        "    text = text.lower()\n",
        "    return any(word in text for word in EXPLICIT_WORDS)\n",
        "\n",
        "mask_explicit = df['Product Name'].apply(contains_explicit)\n",
        "rejected_explicit = df[mask_explicit]\n",
        "df = df[~mask_explicit]\n",
        "\n",
        "# === 3. REMOVE DUPLICATES (Keep First) ===\n",
        "df_before = df.copy()\n",
        "df = df.drop_duplicates()\n",
        "rejected_duplicates = df_before[~df_before.index.isin(df.index)]\n",
        "\n",
        "# === 4. CLEAN URL QUOTES ===\n",
        "for col in ['Image URL1', 'Image URL2', 'Image URL3']:\n",
        "    df[col] = df[col].astype(str).str.replace('\"', '', regex=False)\n",
        "\n",
        "# === 5. REARRANGE BY KEYWORDS ===\n",
        "def sort_priority(name):\n",
        "    if pd.isnull(name):\n",
        "        return (len(SORT_KEYWORDS), name)\n",
        "    name_lower = name.lower()\n",
        "    for i, kw in enumerate(SORT_KEYWORDS):\n",
        "        if kw.lower() in name_lower:\n",
        "            return (i, name)\n",
        "    return (len(SORT_KEYWORDS), name)\n",
        "\n",
        "df['__sort_order__'] = df['Product Name'].apply(sort_priority)\n",
        "df = df.sort_values('__sort_order__').drop(columns='__sort_order__')\n",
        "\n",
        "# === 6. REORDER COLUMNS TO SCHEMA ===\n",
        "desired_order = ['WPID', 'Item ID', 'Product Name', 'Image URL1', 'Image URL2', 'Image URL3']\n",
        "df = df[[col for col in desired_order if col in df.columns]]\n",
        "\n",
        "# === 7. SAVE OUTPUT TO MULTI-SHEET EXCEL ===\n",
        "with pd.ExcelWriter(OUTPUT_XLSX) as writer:\n",
        "    df.to_excel(writer, sheet_name=\"Cleaned_Data\", index=False)\n",
        "    rejected_unreadable.to_excel(writer, sheet_name=\"Unreadable_WPIDs\", index=False)\n",
        "    rejected_explicit.to_excel(writer, sheet_name=\"Explicit_Content\", index=False)\n",
        "    rejected_duplicates.to_excel(writer, sheet_name=\"Duplicates\", index=False)\n",
        "\n",
        "print(\"✅ Cleaning complete. Output saved to:\", OUTPUT_XLSX)\n"
      ]
    }
  ],
  "metadata": {
    "colab": {
      "provenance": []
    },
    "language_info": {
      "name": "python"
    },
    "kernelspec": {
      "name": "python3",
      "display_name": "Python 3"
    }
  },
  "nbformat": 4,
  "nbformat_minor": 5
}